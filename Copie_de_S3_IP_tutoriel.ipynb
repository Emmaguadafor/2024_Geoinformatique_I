{
  "cells": [
    {
      "cell_type": "markdown",
      "metadata": {
        "id": "view-in-github",
        "colab_type": "text"
      },
      "source": [
        "<a href=\"https://colab.research.google.com/github/Emmaguadafor/2024_Geoinformatique_I/blob/main/Copie_de_S3_IP_tutoriel.ipynb\" target=\"_parent\"><img src=\"https://colab.research.google.com/assets/colab-badge.svg\" alt=\"Open In Colab\"/></a>"
      ]
    },
    {
      "cell_type": "markdown",
      "metadata": {
        "id": "8oE20_rDaClr"
      },
      "source": [
        "# Tutoriel 3: Structure de données\n",
        "\n",
        "Dans cette section, nous examinerons les concepts suivants:\n",
        "\n",
        "1. **Entrée/Sortie de fichiers (File I/O)** : Comment lire et écrire des données à partir de fichiers.\n",
        "2. **Listes (Lists)** : Une collection ordonnée et modifiable d'éléments.\n",
        "3. **Tuples** : Une collection ordonnée mais immuable d'éléments.\n",
        "4. **Ensembles (Sets)** : Une collection non ordonnée d'éléments uniques, sans doublons.\n",
        "5. **Dictionnaires (Dictionaries)** : Une structure qui associe des clés uniques à des valeurs.\n",
        "\n",
        "Références:\n",
        "* IBM Cognitive Class - Intro to Python (https://github.com/computationalcore/introduction-to-python)\n",
        "* CUSP UCSL bootcamp 2017 (https://github.com/Mohitsharma44/ucsl17)"
      ]
    },
    {
      "cell_type": "markdown",
      "metadata": {
        "id": "xYwVgmoOaClr"
      },
      "source": [
        "## File I/O\n",
        "Dans cette section, nous présenterons les fonctions de base que nous pouvons utiliser pour stocker et récupérer des données à partir de fichiers de différents formats.\n",
        "\n",
        "Pour les projets en sciences de l'environnement, les données de recherche sont le plus souvent stockées dans les formats suivants :\n",
        "1. **Fichiers texte (`TXT`)** : Utilisés pour stocker des données simples sous forme de texte brut, souvent utilisés pour la documentation ou des logs.\n",
        "2. **Fichiers tabulaires (par exemple, `CSV`, `XLS`)** : Permettent de structurer des données en tableaux, largement utilisés pour des géodonnées quantitatives.\n",
        "3. **Données structurées / dictionnaires Python, etc. (par exemple, `Pickle`, `dill`, `JSON`)** : Utilisés pour sérialiser et stocker des objets Python ou des données complexes dans un format structuré, facilitant la réutilisation et l'échange de données.\n",
        "4. **Données maillées (par exemple, `HDF5`, `NetCDF`)** : Formats optimisés pour stocker et gérer de grandes quantités de données scientifiques multidimensionnelles, souvent utilisées en climatologie ou en imagerie.\n",
        "\n",
        "Nous allons maintenant voir comment nous pouvons utiliser Python et différents paquets Python pour récupérer les données stockées dans ces formats, et comment sauvegarder vos données dans différents formats pour une utilisation ultérieure.\n",
        "\n",
        "Référence:\n",
        "*   CUSP UCSL bootcamp 2017 (https://github.com/Mohitsharma44/ucsl17)\n",
        "*   Python 3 tutorial (https://docs.python.org/3/tutorial/inputoutput.html)\n",
        "*   GSFC Python Bootcamp (https://github.com/astg606/py_materials/blob/master/useful_modules/)\n",
        "*   Working on JSON Data in Python (https://realpython.com/python-json/)\n",
        "*   PyHOGS (http://pyhogs.github.io/intro_netcdf4.html)"
      ]
    },
    {
      "cell_type": "markdown",
      "metadata": {
        "id": "uTAfoSGOaCls"
      },
      "source": [
        "Commençons par importer quelques paquets..."
      ]
    },
    {
      "cell_type": "code",
      "execution_count": 1,
      "metadata": {
        "id": "LHuG1yYqaCls"
      },
      "outputs": [],
      "source": [
        "import csv\n",
        "import pickle\n",
        "import pandas as pd\n",
        "import xarray as xr\n",
        "import numpy as np"
      ]
    },
    {
      "cell_type": "markdown",
      "metadata": {
        "id": "RXvj1u9faClt"
      },
      "source": [
        "### Fichiers TXT\n",
        "Nous allons maintenant apprendre à écrire des informations dans un fichier .TXT et à les relire à l'aide de fonctions Python intégrées. Les données utilisées dans cette partie du tutoriel seront très simples. Dans les prochains exercices, nous présenterons également les commandes des paquets communautaires qui nous permettent de lire et de stocker des données plus complexes.\n",
        "\n",
        "#### Ouverture de fichiers :\n",
        "Les fichiers peuvent être ouverts en utilisant la fonction intégrée de Python `open()`. Cette fonction crée un objet fichier pour les opérations suivantes. Utilisez la syntaxe suivante pour lire un fichier TXT : \\\\\n",
        "`fhandler = open(file_name, access mode, encoding)`\n",
        "\n",
        "- `nom_du_fichier` : Le nom du fichier sur lequel vous souhaitez effectuer vos opérations d'E/S. \\\n",
        "Notez qu'il s'agit du chemin d'accès complet au fichier (par exemple, $\\text{\\\\home\\\\Documents\\\\file.txt}$ )\n",
        "- `encodage` : Schéma d'encodage à utiliser pour convertir le flux d'octets en texte. (Standard=`utf-8`)\n",
        "- `access_mode` : La façon dont un fichier est ouvert, les choix disponibles pour cette option incluent :\n",
        "\n",
        "|access_mode | Its Function|\n",
        "|:------|------------:|\n",
        "|r\t|Ouvre un fichier en lecture seule|\n",
        "|rb\t|Ouvre un fichier en lecture seule au format binaire|\n",
        "|r+\t|Ouvre un fichier pour la lecture et l'écriture|\n",
        "|rb+\t|Ouvre un fichier pour la lecture et l'écriture au format binaire|\n",
        "|w\t|Ouvre un fichier en écriture uniquement|\n",
        "|wb\t|Ouvre un fichier en écriture uniquement au format binaire|\n",
        "|w+\t|Ouvre un fichier en lecture et en écriture|\n",
        "|wb+\t|Ouvre un fichier pour l'écriture et la lecture au format binaire|\n",
        "|a\t|Ouvre un fichier pour l'ajouter|\n",
        "|ab\t|Ouvre un fichier pour l'ajouter en binaire|\n",
        "|a+\t|Ouvre un fichier pour l'ajout et la lecture|\n",
        "|ab+\t|Ouvre un fichier pour l'ajout et la lecture au format binaire|\n",
        "\n",
        "Dans l'exemple ci-dessous, nous allons essayer de stocker plusieurs phrases dans un nouveau fichier TXT, et utiliser la fonction `open()` pour voir si le code fonctionne comme prévu."
      ]
    },
    {
      "cell_type": "code",
      "execution_count": 2,
      "metadata": {
        "id": "t4r6_h5KaClu"
      },
      "outputs": [],
      "source": [
        "fhandler = open('test.txt', 'w', encoding=\"utf-8\")\n",
        "fhandler.write('Hello World!\\n')\n",
        "fhandler.write('I am a UNIL Master Student.\\n')\n",
        "fhandler.write('I am learning how to code!\\n')\n",
        "fhandler.close()"
      ]
    },
    {
      "cell_type": "markdown",
      "metadata": {
        "id": "j2imNFfhaClu"
      },
      "source": [
        "```{note}\n",
        "In the code above, we use the `open()` command to create a *write-only* (`access_mode='w'`) file `test.txt`. The open command creates a file object (`fhandler`) on which we can perform extra operations.\n",
        "\n",
        "We then try to add three sentences to the TXT file using the `.write()` operation on the file object.\n",
        "\n",
        "Remember to close the file with `.close()` command so that the changes can be finalized!\n",
        "\n",
        "If the code is writing, we should see a `test.txt` file created in the same path as this notebook. Let's see if that's the case!\n",
        "```"
      ]
    },
    {
      "cell_type": "markdown",
      "source": [
        "💡 Rappel: `!` vous permet d'accéder aux commandes \"shell\" 💡"
      ],
      "metadata": {
        "id": "Euze21E5MJeI"
      }
    },
    {
      "cell_type": "code",
      "execution_count": 3,
      "metadata": {
        "id": "frncMPLgaClu",
        "colab": {
          "base_uri": "https://localhost:8080/"
        },
        "outputId": "a5f76b8f-da21-4a86-cd7e-9f9f2e794fca"
      },
      "outputs": [
        {
          "output_type": "stream",
          "name": "stdout",
          "text": [
            "sample_data  test.txt\n"
          ]
        }
      ],
      "source": [
        "! ls ."
      ]
    },
    {
      "cell_type": "code",
      "execution_count": 4,
      "metadata": {
        "id": "AzfEjHqLaClv",
        "colab": {
          "base_uri": "https://localhost:8080/"
        },
        "outputId": "ba6e7813-c485-4653-f941-ca730e170765"
      },
      "outputs": [
        {
          "output_type": "stream",
          "name": "stdout",
          "text": [
            "Hello World!\n",
            "I am a UNIL Master Student.\n",
            "I am learning how to code!\n"
          ]
        }
      ],
      "source": [
        "! cat test.txt"
      ]
    },
    {
      "cell_type": "markdown",
      "metadata": {
        "id": "7TWcmQ91aClv"
      },
      "source": [
        "Hourra ! Ça marche ! 😀\n",
        "\n",
        "Mais n'avons-nous pas dit que nous voulions le relire ? 🤨\n",
        "\n",
        "Essayons de lire le fichier alors ! Pouvez-vous penser à des façons de le faire ?\n",
        "\n",
        "Voici quelques-unes des fonctions que vous pourriez utiliser.\n",
        "\n",
        "1.   `.close()` : Ferme le fichier actuellement ouvert.\n",
        "2.   `.readline([size])` : Lit les chaînes de caractères d'un fichier jusqu'à ce qu'il atteigne le caractère de nouvelle ligne `\\n` si le paramètre `size` est vide. Sinon, il lira la chaîne de caractères de la taille donnée.\n",
        "3.   `.readlines([size])` : Appelle répétitivement `.readline()` jusqu'à la fin du fichier.\n",
        "4.   `.write(str)` : Écrit la chaîne de caractères str dans le fichier.\n",
        "5.   `.writelines([list])` : Ecrit une séquence de chaînes de caractères dans un fichier. Aucune nouvelle ligne n'est ajoutée automatiquement."
      ]
    },
    {
      "cell_type": "code",
      "execution_count": 5,
      "metadata": {
        "id": "7w-mmj0kaClv",
        "colab": {
          "base_uri": "https://localhost:8080/"
        },
        "outputId": "cfe3a165-b5f3-4b79-ac9e-a711e76014d0"
      },
      "outputs": [
        {
          "output_type": "execute_result",
          "data": {
            "text/plain": [
              "['Hello World!\\n',\n",
              " 'I am a UNIL Master Student.\\n',\n",
              " 'I am learning how to code!\\n']"
            ]
          },
          "metadata": {},
          "execution_count": 5
        }
      ],
      "source": [
        "fhandler = open('test.txt','r',encoding='utf-8')\n",
        "fhandler.readlines()"
      ]
    },
    {
      "cell_type": "markdown",
      "metadata": {
        "id": "4JOvGSEjaClw"
      },
      "source": [
        "Et si nous voulions ajouter du texte au fichier ?"
      ]
    },
    {
      "cell_type": "code",
      "execution_count": 6,
      "metadata": {
        "id": "CENik8cPaClw",
        "colab": {
          "base_uri": "https://localhost:8080/"
        },
        "outputId": "5e493e9e-6aa7-49e9-eee6-267e36d8a098"
      },
      "outputs": [
        {
          "output_type": "stream",
          "name": "stdout",
          "text": [
            "['Hello World!\\n', 'I am a UNIL Master Student.\\n', 'I am learning how to code!\\n']\n",
            "['Hello World!\\n', 'I am a UNIL Master Student.\\n', 'I am learning how to code!\\n', 'Now,\\n', 'I am trying to add some stuff.']\n"
          ]
        }
      ],
      "source": [
        "with open('test.txt', 'r+') as fhandler:\n",
        "  print(fhandler.readlines())\n",
        "  fhandler.writelines(['Now,\\n', 'I am trying to', ' add some stuff.'])\n",
        "  # Go to the starting of file\n",
        "  fhandler.seek(0)\n",
        "  # Print the content of file\n",
        "  print(fhandler.readlines())"
      ]
    },
    {
      "cell_type": "markdown",
      "metadata": {
        "id": "_ZDEHwTWaClw"
      },
      "source": [
        "Ici, nous utilisons une autre méthode pour ouvrir et écrire le fichier de données.\n",
        "En utilisant l'instruction `with` pour ouvrir le fichier TXT, nous nous assurons que les données sont automatiquement fermées après l'opération finale. Nous n'avons plus besoin d'écrire l'instruction `fhandler.close()`."
      ]
    },
    {
      "cell_type": "markdown",
      "metadata": {
        "id": "bruZIHmXaClw"
      },
      "source": [
        "### Fichiers tabulaires\n",
        "Que feriez-vous si vous aviez des données joliment organisées dans le format ci-dessous ?\n",
        "```\n",
        "Données1, Données2, Données3\n",
        "Exemple01, Exemple02, Exemple03\n",
        "Exemple11, Exemple12, Exemple13\n",
        "```\n",
        "Lorsque vous ouvrez un fichier de ce type dans Excel, voici à quoi il ressemble :\n",
        "\n",
        "||||\n",
        "|:--|:--|:--|\n",
        "|Donnée1\t|Donnée2\t|Donnée3|\n",
        "|Exemple1\t|Exemple2\t|Exemple3|\n",
        "\n",
        "Il s'agit d'un fichier tabulaire _séparé par des virgules_. Les fichiers de ce type sont généralement enregistrés avec l'extension `.csv`. Les fichiers `.csv` peuvent ensuite être ouverts et visualisés à l'aide d'un tableur, tel que Google Sheets, Numbers ou Microsoft Excel.\n",
        "\n",
        "Mais qu'en est-il si nous voulons utiliser les données dans Python ?\n",
        "\n",
        "#### Ouverture des fichiers :\n",
        "Heureusement, il existe des paquets communautaires qui peuvent vous aider à importer et à récupérer vos données tabulaires avec un minimum d'effort. Nous présentons ici deux de ces packages : CSV et Pandas.\n",
        "\n",
        "##### Lire des fichiers CSV avec le paquetage `CSV`\n",
        "\n",
        "`reader()` peut être utilisé pour créer un objet qui est utilisé pour lire les données d'un fichier CSV. Le lecteur peut être utilisé comme un itérateur pour traiter les lignes du fichier dans l'ordre. Voyons un exemple :"
      ]
    },
    {
      "cell_type": "code",
      "execution_count": 7,
      "metadata": {
        "id": "1MuPaW1OaClx",
        "colab": {
          "base_uri": "https://localhost:8080/"
        },
        "outputId": "812a20b5-8eaa-40ad-d1e7-bc6a3b0e4971"
      },
      "outputs": [
        {
          "output_type": "stream",
          "name": "stderr",
          "text": [
            "Downloading data from 'https://unils-my.sharepoint.com/:x:/g/personal/tom_beucler_unil_ch/ETDZdgCkWbZLiv_LP6HKCOAB2NP7H0tUTLlP_stknqQHGw?download=1' to file '/root/.cache/pooch/489ae79e8d80d9513daa4dc2e77ba99c-ETDZdgCkWbZLiv_LP6HKCOAB2NP7H0tUTLlP_stknqQHGw'.\n",
            "SHA256 hash of downloaded file: 8467997396f39bda790ab86712ef96295487cb6167c9bb5251d5488985d2ccb9\n",
            "Use this value as the 'known_hash' argument of 'pooch.retrieve' to ensure that the file hasn't changed if it is downloaded again in the future.\n"
          ]
        }
      ],
      "source": [
        "import pooch\n",
        "import urllib.request\n",
        "datafile = pooch.retrieve('https://unils-my.sharepoint.com/:x:/g/personal/tom_beucler_unil_ch/ETDZdgCkWbZLiv_LP6HKCOAB2NP7H0tUTLlP_stknqQHGw?download=1',\n",
        "                          known_hash=None)"
      ]
    },
    {
      "cell_type": "code",
      "execution_count": 8,
      "metadata": {
        "id": "uJwEm1vVaClx"
      },
      "outputs": [],
      "source": [
        "row = []\n",
        "# https://unils-my.sharepoint.com/:x:/g/personal/tom_beucler_unil_ch/ETDZdgCkWbZLiv_LP6HKCOAB2NP7H0tUTLlP_stknqQHGw?e=N541Yq\n",
        "with open(datafile, 'r') as fh:\n",
        "  reader = csv.reader(fh)\n",
        "  for info in reader:\n",
        "    row.append(info)"
      ]
    },
    {
      "cell_type": "code",
      "execution_count": 9,
      "metadata": {
        "id": "2-WblRQJaClx",
        "colab": {
          "base_uri": "https://localhost:8080/"
        },
        "outputId": "375d16c9-c8b4-4494-f8ce-d399570501df"
      },
      "outputs": [
        {
          "output_type": "stream",
          "name": "stdout",
          "text": [
            "[]\n"
          ]
        }
      ],
      "source": [
        "print(row[0])"
      ]
    },
    {
      "cell_type": "code",
      "execution_count": 10,
      "metadata": {
        "id": "7uRVhD-YaCly",
        "colab": {
          "base_uri": "https://localhost:8080/"
        },
        "outputId": "b292c24f-2147-4ac7-fcb9-bf5ac9dd94c8"
      },
      "outputs": [
        {
          "output_type": "stream",
          "name": "stdout",
          "text": [
            "['<!DOCTYPE html PUBLIC \"-//W3C//DTD XHTML 1.0 Strict//EN\"']\n"
          ]
        }
      ],
      "source": [
        "print(row[1])"
      ]
    },
    {
      "cell_type": "markdown",
      "metadata": {
        "id": "KjP_2WU1aCly"
      },
      "source": [
        "``{tip}\n",
        "Dans le code ci-dessus, nous utilisons la méthode `csv.reader()` pour lire itérativement chaque ligne du fichier CSV.\n",
        "\n",
        "Nous ajoutons une nouvelle ligne à une liste vide à chaque itération.\n",
        "\n",
        "Nous utilisons la fonction `print()` pour voir ce qui a été écrit dans la liste. Nous avons constaté que la première ligne contient des informations sur les noms de variables, tandis que la deuxième ligne contient des données à un pas de temps donné.\n",
        "```\n",
        "\n",
        "#### Extraire les données et les écrire dans un nouveau fichier CSV :\n",
        "Le fichier CSV que nous venons d'importer contient en fait les données des stations météorologiques de janvier 2022 à août 2022. Que se passe-t-il si nous ne voulons que les données des cinq premières lignes ? Pouvons-nous extraire les données et les enregistrer dans un nouveau fichier CSV ?"
      ]
    },
    {
      "cell_type": "code",
      "execution_count": 11,
      "metadata": {
        "id": "CsH5RgPhaCly"
      },
      "outputs": [],
      "source": [
        "with open('testsmall.csv', 'w') as fh:\n",
        "  writer = csv.writer(fh)\n",
        "  for num in range(5):\n",
        "    writer.writerow(row[num])"
      ]
    },
    {
      "cell_type": "markdown",
      "metadata": {
        "id": "Pau4FiOlaCly"
      },
      "source": [
        "```{note}\n",
        "\n",
        "En fait, il existe un meilleur paquetage pour les données tabulaires. Cette bibliothèque s'appelle `Pandas`. Nous présenterons ce paquetage plus en détail la semaine prochaine. Pour l'instant, nous allons simplement démontrer que nous pouvons utiliser pandas pour faire la même procédure FileI/O que nous avons faite plus tôt avec CSV.\n",
        "\n",
        "Ici, nous lisons la grande feuille de données de la station météorologique `datafile` avec la fonction pandas `.read_csv()`.\n",
        "```"
      ]
    },
    {
      "cell_type": "code",
      "execution_count": 13,
      "metadata": {
        "id": "odMu3ISSaCly",
        "colab": {
          "base_uri": "https://localhost:8080/",
          "height": 911
        },
        "outputId": "bff9d722-1e5d-4916-b1f1-181186e2d2e2"
      },
      "outputs": [
        {
          "output_type": "error",
          "ename": "ParserError",
          "evalue": "Error tokenizing data. C error: Expected 1 fields in line 18, saw 2682\n",
          "traceback": [
            "\u001b[0;31m---------------------------------------------------------------------------\u001b[0m",
            "\u001b[0;31mParserError\u001b[0m                               Traceback (most recent call last)",
            "\u001b[0;32m<ipython-input-13-057ea4df6e2e>\u001b[0m in \u001b[0;36m<cell line: 2>\u001b[0;34m()\u001b[0m\n\u001b[1;32m      1\u001b[0m \u001b[0;31m# importer fichier CSV avec pandas\u001b[0m\u001b[0;34m\u001b[0m\u001b[0;34m\u001b[0m\u001b[0m\n\u001b[0;32m----> 2\u001b[0;31m \u001b[0mALOdatasheet\u001b[0m \u001b[0;34m=\u001b[0m \u001b[0mpd\u001b[0m\u001b[0;34m.\u001b[0m\u001b[0mread_csv\u001b[0m\u001b[0;34m(\u001b[0m\u001b[0mdatafile\u001b[0m\u001b[0;34m)\u001b[0m\u001b[0;34m\u001b[0m\u001b[0;34m\u001b[0m\u001b[0m\n\u001b[0m",
            "\u001b[0;32m/usr/local/lib/python3.10/dist-packages/pandas/io/parsers/readers.py\u001b[0m in \u001b[0;36mread_csv\u001b[0;34m(filepath_or_buffer, sep, delimiter, header, names, index_col, usecols, dtype, engine, converters, true_values, false_values, skipinitialspace, skiprows, skipfooter, nrows, na_values, keep_default_na, na_filter, verbose, skip_blank_lines, parse_dates, infer_datetime_format, keep_date_col, date_parser, date_format, dayfirst, cache_dates, iterator, chunksize, compression, thousands, decimal, lineterminator, quotechar, quoting, doublequote, escapechar, comment, encoding, encoding_errors, dialect, on_bad_lines, delim_whitespace, low_memory, memory_map, float_precision, storage_options, dtype_backend)\u001b[0m\n\u001b[1;32m   1024\u001b[0m     \u001b[0mkwds\u001b[0m\u001b[0;34m.\u001b[0m\u001b[0mupdate\u001b[0m\u001b[0;34m(\u001b[0m\u001b[0mkwds_defaults\u001b[0m\u001b[0;34m)\u001b[0m\u001b[0;34m\u001b[0m\u001b[0;34m\u001b[0m\u001b[0m\n\u001b[1;32m   1025\u001b[0m \u001b[0;34m\u001b[0m\u001b[0m\n\u001b[0;32m-> 1026\u001b[0;31m     \u001b[0;32mreturn\u001b[0m \u001b[0m_read\u001b[0m\u001b[0;34m(\u001b[0m\u001b[0mfilepath_or_buffer\u001b[0m\u001b[0;34m,\u001b[0m \u001b[0mkwds\u001b[0m\u001b[0;34m)\u001b[0m\u001b[0;34m\u001b[0m\u001b[0;34m\u001b[0m\u001b[0m\n\u001b[0m\u001b[1;32m   1027\u001b[0m \u001b[0;34m\u001b[0m\u001b[0m\n\u001b[1;32m   1028\u001b[0m \u001b[0;34m\u001b[0m\u001b[0m\n",
            "\u001b[0;32m/usr/local/lib/python3.10/dist-packages/pandas/io/parsers/readers.py\u001b[0m in \u001b[0;36m_read\u001b[0;34m(filepath_or_buffer, kwds)\u001b[0m\n\u001b[1;32m    624\u001b[0m \u001b[0;34m\u001b[0m\u001b[0m\n\u001b[1;32m    625\u001b[0m     \u001b[0;32mwith\u001b[0m \u001b[0mparser\u001b[0m\u001b[0;34m:\u001b[0m\u001b[0;34m\u001b[0m\u001b[0;34m\u001b[0m\u001b[0m\n\u001b[0;32m--> 626\u001b[0;31m         \u001b[0;32mreturn\u001b[0m \u001b[0mparser\u001b[0m\u001b[0;34m.\u001b[0m\u001b[0mread\u001b[0m\u001b[0;34m(\u001b[0m\u001b[0mnrows\u001b[0m\u001b[0;34m)\u001b[0m\u001b[0;34m\u001b[0m\u001b[0;34m\u001b[0m\u001b[0m\n\u001b[0m\u001b[1;32m    627\u001b[0m \u001b[0;34m\u001b[0m\u001b[0m\n\u001b[1;32m    628\u001b[0m \u001b[0;34m\u001b[0m\u001b[0m\n",
            "\u001b[0;32m/usr/local/lib/python3.10/dist-packages/pandas/io/parsers/readers.py\u001b[0m in \u001b[0;36mread\u001b[0;34m(self, nrows)\u001b[0m\n\u001b[1;32m   1921\u001b[0m                     \u001b[0mcolumns\u001b[0m\u001b[0;34m,\u001b[0m\u001b[0;34m\u001b[0m\u001b[0;34m\u001b[0m\u001b[0m\n\u001b[1;32m   1922\u001b[0m                     \u001b[0mcol_dict\u001b[0m\u001b[0;34m,\u001b[0m\u001b[0;34m\u001b[0m\u001b[0;34m\u001b[0m\u001b[0m\n\u001b[0;32m-> 1923\u001b[0;31m                 \u001b[0;34m)\u001b[0m \u001b[0;34m=\u001b[0m \u001b[0mself\u001b[0m\u001b[0;34m.\u001b[0m\u001b[0m_engine\u001b[0m\u001b[0;34m.\u001b[0m\u001b[0mread\u001b[0m\u001b[0;34m(\u001b[0m  \u001b[0;31m# type: ignore[attr-defined]\u001b[0m\u001b[0;34m\u001b[0m\u001b[0;34m\u001b[0m\u001b[0m\n\u001b[0m\u001b[1;32m   1924\u001b[0m                     \u001b[0mnrows\u001b[0m\u001b[0;34m\u001b[0m\u001b[0;34m\u001b[0m\u001b[0m\n\u001b[1;32m   1925\u001b[0m                 )\n",
            "\u001b[0;32m/usr/local/lib/python3.10/dist-packages/pandas/io/parsers/c_parser_wrapper.py\u001b[0m in \u001b[0;36mread\u001b[0;34m(self, nrows)\u001b[0m\n\u001b[1;32m    232\u001b[0m         \u001b[0;32mtry\u001b[0m\u001b[0;34m:\u001b[0m\u001b[0;34m\u001b[0m\u001b[0;34m\u001b[0m\u001b[0m\n\u001b[1;32m    233\u001b[0m             \u001b[0;32mif\u001b[0m \u001b[0mself\u001b[0m\u001b[0;34m.\u001b[0m\u001b[0mlow_memory\u001b[0m\u001b[0;34m:\u001b[0m\u001b[0;34m\u001b[0m\u001b[0;34m\u001b[0m\u001b[0m\n\u001b[0;32m--> 234\u001b[0;31m                 \u001b[0mchunks\u001b[0m \u001b[0;34m=\u001b[0m \u001b[0mself\u001b[0m\u001b[0;34m.\u001b[0m\u001b[0m_reader\u001b[0m\u001b[0;34m.\u001b[0m\u001b[0mread_low_memory\u001b[0m\u001b[0;34m(\u001b[0m\u001b[0mnrows\u001b[0m\u001b[0;34m)\u001b[0m\u001b[0;34m\u001b[0m\u001b[0;34m\u001b[0m\u001b[0m\n\u001b[0m\u001b[1;32m    235\u001b[0m                 \u001b[0;31m# destructive to chunks\u001b[0m\u001b[0;34m\u001b[0m\u001b[0;34m\u001b[0m\u001b[0m\n\u001b[1;32m    236\u001b[0m                 \u001b[0mdata\u001b[0m \u001b[0;34m=\u001b[0m \u001b[0m_concatenate_chunks\u001b[0m\u001b[0;34m(\u001b[0m\u001b[0mchunks\u001b[0m\u001b[0;34m)\u001b[0m\u001b[0;34m\u001b[0m\u001b[0;34m\u001b[0m\u001b[0m\n",
            "\u001b[0;32mparsers.pyx\u001b[0m in \u001b[0;36mpandas._libs.parsers.TextReader.read_low_memory\u001b[0;34m()\u001b[0m\n",
            "\u001b[0;32mparsers.pyx\u001b[0m in \u001b[0;36mpandas._libs.parsers.TextReader._read_rows\u001b[0;34m()\u001b[0m\n",
            "\u001b[0;32mparsers.pyx\u001b[0m in \u001b[0;36mpandas._libs.parsers.TextReader._tokenize_rows\u001b[0;34m()\u001b[0m\n",
            "\u001b[0;32mparsers.pyx\u001b[0m in \u001b[0;36mpandas._libs.parsers.TextReader._check_tokenize_status\u001b[0;34m()\u001b[0m\n",
            "\u001b[0;32mparsers.pyx\u001b[0m in \u001b[0;36mpandas._libs.parsers.raise_parser_error\u001b[0;34m()\u001b[0m\n",
            "\u001b[0;31mParserError\u001b[0m: Error tokenizing data. C error: Expected 1 fields in line 18, saw 2682\n"
          ]
        }
      ],
      "source": [
        "# importer fichier CSV avec pandas\n",
        "ALOdatasheet = pd.read_csv(datafile)"
      ]
    },
    {
      "cell_type": "code",
      "execution_count": 14,
      "metadata": {
        "id": "FPT4j3LuaCly",
        "colab": {
          "base_uri": "https://localhost:8080/",
          "height": 158
        },
        "outputId": "3716bb6d-6754-4b8f-c046-55d39dff1ec9"
      },
      "outputs": [
        {
          "output_type": "error",
          "ename": "NameError",
          "evalue": "name 'ALOdatasheet' is not defined",
          "traceback": [
            "\u001b[0;31m---------------------------------------------------------------------------\u001b[0m",
            "\u001b[0;31mNameError\u001b[0m                                 Traceback (most recent call last)",
            "\u001b[0;32m<ipython-input-14-16ea78ce8af6>\u001b[0m in \u001b[0;36m<cell line: 2>\u001b[0;34m()\u001b[0m\n\u001b[1;32m      1\u001b[0m \u001b[0;31m# Exporter les cinq premières lignes du cadre de données Pandas vers un fichier CSV\u001b[0m\u001b[0;34m\u001b[0m\u001b[0;34m\u001b[0m\u001b[0m\n\u001b[0;32m----> 2\u001b[0;31m \u001b[0mALOdatasheet\u001b[0m\u001b[0;34m[\u001b[0m\u001b[0;36m0\u001b[0m\u001b[0;34m:\u001b[0m\u001b[0;36m5\u001b[0m\u001b[0;34m]\u001b[0m\u001b[0;34m.\u001b[0m\u001b[0mto_csv\u001b[0m\u001b[0;34m(\u001b[0m\u001b[0;34m'./testsmall_pd.csv'\u001b[0m\u001b[0;34m)\u001b[0m\u001b[0;34m\u001b[0m\u001b[0;34m\u001b[0m\u001b[0m\n\u001b[0m",
            "\u001b[0;31mNameError\u001b[0m: name 'ALOdatasheet' is not defined"
          ]
        }
      ],
      "source": [
        "# Exporter les cinq premières lignes du cadre de données Pandas vers un fichier CSV\n",
        "ALOdatasheet[0:5].to_csv('./testsmall_pd.csv')"
      ]
    },
    {
      "cell_type": "markdown",
      "metadata": {
        "id": "RyL1V7IlaClz"
      },
      "source": [
        "### Sérialisation et désérialisation avec Pickle\n",
        "(Réécrit à partir du GSFC Python Bootcamp)\n",
        "\n",
        "Pickle est un format interne de Python qui permet d'écrire des données arbitraires dans un fichier de manière à pouvoir les relire, intactes.\n",
        "* `pickle` \"sérialise\" d'abord l'objet avant de l'écrire dans un fichier.\n",
        "* Le décapage (sérialisation) est un moyen de convertir un objet Python (liste, dict, etc.) en un flux de caractères qui contient toutes les informations nécessaires pour reconstruire l'objet dans un autre script Python.\n",
        "\n",
        "Les types suivants peuvent être sérialisés et désérialisés en utilisant le module `pickle` :\n",
        "* Tous les types de données natifs supportés par Python (booléens, None, entiers, flottants, nombres complexes, chaînes de caractères, octets, tableaux d'octets).\n",
        "* Dictionnaires, ensembles, listes et tuples - tant qu'ils contiennent des objets sélectionnables.\n",
        "* Les fonctions (décryptées par leur nom de référence, et non par leur valeur) et les classes qui sont définies au niveau supérieur d'un module.\n",
        "\n",
        "Les fonctions principales de `pickle` sont :\n",
        "\n",
        "* `dump()` : récupère des données en acceptant des données et un objet fichier.\n",
        "* `load()` : prend un objet fichier, reconstruit les objets à partir de la représentation décapée, et les renvoie.\n",
        "* `dumps()` : renvoie les données décryptées sous forme de chaîne de caractères.\n",
        "* `loads()` : lit les données extraites d'une chaîne.\n",
        "\n",
        "`dump()`/`load()` sérialise/désérialise les objets à travers des fichiers mais `dumps()`/`loads()` sérialise/désérialise les objets à travers une représentation sous forme de chaîne de caractères."
      ]
    },
    {
      "cell_type": "code",
      "execution_count": 15,
      "metadata": {
        "id": "EWr8LgePaClz"
      },
      "outputs": [],
      "source": [
        "# Exemple de dictionnaire Python\n",
        "data_org = { 'mydata1':np.linspace(0,800,801), 'mydata2':np.linspace(0,60,61)}"
      ]
    },
    {
      "cell_type": "code",
      "execution_count": 16,
      "metadata": {
        "id": "U2qtscnTaClz"
      },
      "outputs": [],
      "source": [
        "# Enregistrer un dictionnaire Python dans un fichier pickle\n",
        "with open('pickledict_sample.pkl', 'wb') as fid:\n",
        "     pickle.dump(data_org, fid)\n",
        "# Deserialize saved pickle file\n",
        "with open('pickledict_sample.pkl', 'rb') as fid:\n",
        "     data3 = pickle.load(fid)"
      ]
    },
    {
      "cell_type": "code",
      "execution_count": 17,
      "metadata": {
        "id": "sQNEmqgNaClz",
        "colab": {
          "base_uri": "https://localhost:8080/"
        },
        "outputId": "4419951f-7a14-465f-8977-990c3415c694"
      },
      "outputs": [
        {
          "output_type": "stream",
          "name": "stdout",
          "text": [
            "Variable mydata1 is the same in data_org and data3: True\n",
            "Variable mydata2 is the same in data_org and data3: True\n"
          ]
        }
      ],
      "source": [
        "for strg in data_org.keys():\n",
        "  print(f\"Variable {strg} is the same in data_org and data3: {(data_org[strg]==data3[strg]).all()}\")"
      ]
    },
    {
      "cell_type": "markdown",
      "metadata": {
        "id": "1uFAHqExaClz"
      },
      "source": [
        "## Lists"
      ]
    },
    {
      "cell_type": "markdown",
      "source": [
        "Une **liste** est une structure de données qui stocke plusieurs éléments dans un ordre spécifique. Les listes sont **mutables**, ce qui signifie que leur contenu peut être modifié après leur création. Elles sont très utilisées pour :\n",
        "\n",
        "- **Stocker** plusieurs valeurs dans une séquence.\n",
        "- **Accéder** à des éléments via leur index.\n",
        "- **Modifier** des éléments (ajout, suppression, changement).\n",
        "- **Itérer** sur une collection d'éléments."
      ],
      "metadata": {
        "id": "iFMWrDCoOpMa"
      }
    },
    {
      "cell_type": "markdown",
      "metadata": {
        "id": "OuIfInvLaClz"
      },
      "source": [
        "La création de listes est très facile en Python. Nous pouvons créer des listes en séparant les différents éléments par des virgules entre crochets:``[Item1,Item2,Item3]``.\n",
        "`[Élément1,Élément2,Élément3]`\n",
        "\n",
        "Il existe de nombreuses façons d'interagir avec les listes. Les explorer fait partie du plaisir de Python.\n",
        "\n",
        "**list.append(x)** Ajoute un élément à la fin de la liste. Equivalent à `a[len(a) :] = [x]`.\n",
        "\n",
        "**list.extend(L)** Étendre la liste en y ajoutant tous les éléments de la liste donnée. Equivalent à `a[len(a) :] = L`.\n",
        "\n",
        "**list.insert(i, x)** Insère un élément à une position donnée. Le premier argument est\n",
        "l'indice de l'élément avant lequel insérer, donc `a.insert(0, x)` insère en début de liste et `a.insert(len(a), x)` insère en fin de liste et est équivalent à\n",
        "`a.append(x)`.\n",
        "\n",
        "**list.remove(x)** Supprime le premier élément de la liste dont la valeur est x. C'est une erreur s'il n'y a pas d'élément de ce type.\n",
        "\n",
        "**list.pop([i])** Enlève l'élément à la position donnée dans la liste et le renvoie.\n",
        "Si aucun index n'est spécifié, `a.pop()` supprime et renvoie le dernier élément de la liste.\n",
        "(Les crochets autour du i dans la signature de la méthode indiquent que le paramètre est optionnel, et non pas que vous devez le retourner).\n",
        " est optionnel, et non pas que vous devez taper des crochets à cette position.\n",
        " à cette position. Vous verrez souvent cette notation dans la référence de la bibliothèque Python).\n",
        "\n",
        " **list.clear()** Supprime tous les éléments de la liste. Equivalent à `del a[ :]`.\n",
        "\n",
        "**list.index(x)** Retourne l'index dans la liste du premier élément dont la valeur est x.\n",
        "C'est une erreur s'il n'y a pas d'élément de ce type.\n",
        "\n",
        "**list.count(x)** Retourne le nombre de fois que x apparaît dans la liste.\n",
        "\n",
        "**list.sort()** Trie les éléments de la liste à la place.\n",
        "\n",
        "**list.reverse()** Inverse les éléments de la liste en place.\n",
        "\n",
        "**list.copy()** Retourne une copie superficielle de la liste. Equivalent à `a[ :]`."
      ]
    },
    {
      "cell_type": "code",
      "execution_count": 18,
      "metadata": {
        "id": "2dqz0Uv3aCl0",
        "colab": {
          "base_uri": "https://localhost:8080/"
        },
        "outputId": "e404137c-b3f0-47ad-888b-e73c09c43ecf"
      },
      "outputs": [
        {
          "output_type": "execute_result",
          "data": {
            "text/plain": [
              "list"
            ]
          },
          "metadata": {},
          "execution_count": 18
        }
      ],
      "source": [
        "# Expérimentons quelques-unes de ces méthodes !\n",
        "# 1. Créer d'abord une liste\n",
        "l = ['chien', 'chat', 'poisson', 'poulet', 'oeufs', 'canard']\n",
        "type(l)"
      ]
    },
    {
      "cell_type": "code",
      "execution_count": 21,
      "metadata": {
        "id": "1Q5GgWnPaCl1",
        "colab": {
          "base_uri": "https://localhost:8080/"
        },
        "outputId": "13d4b2ec-77d7-4ff5-9725-c6187e59f42c"
      },
      "outputs": [
        {
          "output_type": "stream",
          "name": "stdout",
          "text": [
            "chien canard ['chien', 'chat', 'poisson'] ['poulet', 'oeufs']\n"
          ]
        }
      ],
      "source": [
        "# Découpage de la liste\n",
        "#liste fermée au début et ouverte à la fin\n",
        "print(l[0],l[-1],l[0:3],l[-3:-1])"
      ]
    },
    {
      "cell_type": "markdown",
      "metadata": {
        "id": "gjnkRiPqaCl1"
      },
      "source": [
        "**Pensez à mémoriser cette syntaxe !**\n",
        "Elle est au cœur de Python et s'avère souvent déroutante pour les utilisateurs qui viennent d'autres langages."
      ]
    },
    {
      "cell_type": "markdown",
      "metadata": {
        "id": "JE6KWH-2aCl1"
      },
      "source": [
        "#### **Mise à jour de la liste**\n",
        "Contrairement aux chaînes et aux tuples, les listes sont mutables. Vous pouvez mettre à jour la liste et modifier les éléments quand vous le souhaitez."
      ]
    },
    {
      "cell_type": "code",
      "execution_count": 22,
      "metadata": {
        "id": "Evhe-Hf0aCl1",
        "colab": {
          "base_uri": "https://localhost:8080/"
        },
        "outputId": "39e42371-ea7d-40f7-bc6b-acf3556b1f68"
      },
      "outputs": [
        {
          "output_type": "stream",
          "name": "stdout",
          "text": [
            "Contenu original : \n",
            " ['chien', 'chat', 'Arbre', 'poulet', 'œufs', 'canard']\n",
            "Longueur originale du tableau : \n",
            " 6\n",
            "Contenu modifié : \n",
            " ['chien', 'chat', 'œufs', 'canard']\n",
            "Longueur modifiée du tableau : \n",
            " 4\n"
          ]
        }
      ],
      "source": [
        "my_list = ['chien', 'chat', 'poisson', 'poulet', 'œufs', 'canard']\n",
        "my_list[2] = 'Arbre'\n",
        "print('Contenu original : \\n', my_list)\n",
        "print('Longueur originale du tableau : \\n', len(my_list))\n",
        "#poisson est remplacé par arbre et 6\n",
        "\n",
        "# Enlever quelques éléments/changer la taille\n",
        "my_list[2:4] = []\n",
        "print('Contenu modifié : \\n', my_list)\n",
        "print('Longueur modifiée du tableau : \\n', len(my_list))\n",
        "#on enlève donc arbre, et poulet pas oeufs car intervalle ouvert"
      ]
    },
    {
      "cell_type": "markdown",
      "metadata": {
        "id": "6u4B8j6EaCl2"
      },
      "source": [
        "Modifions la liste à l'aide des méthodes spécifiques aux listes dont nous avons parlé précédemment."
      ]
    },
    {
      "cell_type": "code",
      "execution_count": 23,
      "metadata": {
        "id": "Q4Cl9l2SaCl2",
        "colab": {
          "base_uri": "https://localhost:8080/"
        },
        "outputId": "953d69f9-0e22-4969-8ead-60e38db401d0"
      },
      "outputs": [
        {
          "output_type": "stream",
          "name": "stdout",
          "text": [
            "['chien', 'chat', 'poisson', 'poulet', 'oeufs', 'canard', 'Python']\n",
            "['Julia', 'chien', 'chat', 'poisson', 'poulet', 'oeufs', 'canard', 'Python']\n"
          ]
        }
      ],
      "source": [
        "#@title #### **Ajouter de nouveaux éléments à la liste**\n",
        "my_list = ['chien', 'chat', 'poisson', 'poulet', 'oeufs', 'canard']\n",
        "my_list.append('Python') # Cela ajoutera l'élément à la fin de la liste\n",
        "print(my_list)\n",
        "my_list.insert(0, 'Julia')\n",
        "print(my_list)"
      ]
    },
    {
      "cell_type": "code",
      "execution_count": 24,
      "metadata": {
        "id": "WjRe0rG8aCl2",
        "colab": {
          "base_uri": "https://localhost:8080/"
        },
        "outputId": "378e25be-5d77-4709-c0f9-eeae178d70e5"
      },
      "outputs": [
        {
          "output_type": "stream",
          "name": "stdout",
          "text": [
            "['chien', 'chat', 'poisson', 'poulet', 'oeufs', 'canard', 'Python']\n",
            "['chien', 'chat', 'poisson', 'poulet', 'oeufs', 'canard']\n"
          ]
        }
      ],
      "source": [
        "#@title #### **Supprimez des éléments de la liste**\n",
        "my_list.pop(0)\n",
        "print(my_list)\n",
        "del(my_list[-1])\n",
        "print(my_list)"
      ]
    },
    {
      "cell_type": "code",
      "execution_count": 25,
      "metadata": {
        "id": "Go266Hl7aCmC",
        "colab": {
          "base_uri": "https://localhost:8080/"
        },
        "outputId": "95353524-7b8c-4a97-98b6-216bd7a79b34"
      },
      "outputs": [
        {
          "output_type": "stream",
          "name": "stdout",
          "text": [
            "1\n",
            "5\n"
          ]
        }
      ],
      "source": [
        "#@title #### **Compte, Index**\n",
        "print(my_list.count('poisson'))\n",
        "print(my_list.index('canard'))"
      ]
    },
    {
      "cell_type": "code",
      "execution_count": 26,
      "metadata": {
        "id": "VfyBOVAjaCmD",
        "colab": {
          "base_uri": "https://localhost:8080/"
        },
        "outputId": "4089ffc3-9a59-4283-bf12-22c26929599b"
      },
      "outputs": [
        {
          "output_type": "stream",
          "name": "stdout",
          "text": [
            "['canard', 'oeufs', 'poulet', 'poisson', 'chat', 'chien']\n",
            "['canard', 'chat', 'chien', 'oeufs', 'poisson', 'poulet']\n",
            "['poulet', 'poisson', 'oeufs', 'chien', 'chat', 'canard']\n"
          ]
        }
      ],
      "source": [
        "#@title #### **Tri, Inversion**\n",
        "my_list = ['chien', 'chat', 'poisson', 'poulet', 'oeufs', 'canard']\n",
        "my_list.reverse()\n",
        "print(my_list)\n",
        "my_list.sort()\n",
        "#le fait automatiquement en ordre alphabétique\n",
        "print(my_list)\n",
        "my_list.sort(reverse=True)\n",
        "print(my_list)"
      ]
    },
    {
      "cell_type": "code",
      "execution_count": 27,
      "metadata": {
        "id": "Oq3X63epaCmD",
        "colab": {
          "base_uri": "https://localhost:8080/"
        },
        "outputId": "1e7ac0e9-b884-417c-ca02-7db1c51bc0df"
      },
      "outputs": [
        {
          "output_type": "stream",
          "name": "stdout",
          "text": [
            "['chien', 'chat', 'poisson', 'poulet', 'oeufs', 'canard', 'Python', 'Julia', 'C++']\n",
            "['chien', 'chat', 'poisson', 'poulet', 'oeufs', 'canard', 'Python', 'Julia', 'C++']\n"
          ]
        }
      ],
      "source": [
        "#@title #### **Concaténation de listes**\n",
        "my_list = ['chien', 'chat', 'poisson', 'poulet', 'oeufs', 'canard']\n",
        "my_list2 = ['Python', 'Julia', 'C++']\n",
        "print(my_list+my_list2)\n",
        "my_list.extend(my_list2)\n",
        "print(my_list)"
      ]
    },
    {
      "cell_type": "markdown",
      "metadata": {
        "id": "ubPgy18taCmD"
      },
      "source": [
        "#### **Utiliser des listes en boucle**"
      ]
    },
    {
      "cell_type": "code",
      "execution_count": 28,
      "metadata": {
        "id": "CEhb1Ge4aCmE",
        "colab": {
          "base_uri": "https://localhost:8080/"
        },
        "outputId": "1de3c8d1-97f3-4f25-ce6b-9a83c4a48927"
      },
      "outputs": [
        {
          "output_type": "stream",
          "name": "stdout",
          "text": [
            "my_list[0] : chien\n",
            "my_list[1] : chat\n",
            "my_list[2] : poisson\n",
            "my_list[3] : poulet\n",
            "my_list[4] : oeufs\n",
            "my_list[5] : canard\n",
            "my_list[6] : Python\n",
            "my_list[7] : Julia\n",
            "my_list[8] : C++\n"
          ]
        }
      ],
      "source": [
        "for index in range(len(my_list)) : # commence à 0 et va jusqu'à la longueur de la liste.\n",
        "    print(\"my_list[{}] : {}\".format(index, my_list[index]))"
      ]
    },
    {
      "cell_type": "code",
      "execution_count": 29,
      "metadata": {
        "id": "BA7B5TJZaCmE",
        "colab": {
          "base_uri": "https://localhost:8080/"
        },
        "outputId": "f855d3b7-b9c1-4497-dd47-19ac851abbac"
      },
      "outputs": [
        {
          "output_type": "stream",
          "name": "stdout",
          "text": [
            "my_list[0] : chien\n",
            "my_list[1] : chat\n",
            "my_list[2] : poisson\n",
            "my_list[3] : poulet\n",
            "my_list[4] : oeufs\n",
            "my_list[5] : canard\n",
            "my_list[6] : Python\n",
            "my_list[7] : Julia\n",
            "my_list[8] : C++\n"
          ]
        }
      ],
      "source": [
        "# Nous pouvons en fait faire la même chose avec enumerate()\n",
        "for index,items in enumerate(my_list) :\n",
        "  print(\"my_list[{}] : {}\".format(index,items))"
      ]
    },
    {
      "cell_type": "markdown",
      "metadata": {
        "id": "vOLhfkT8aCmE"
      },
      "source": [
        "**Compréhension de liste**\n",
        "\n",
        "La compréhension de liste est un moyen syntaxique de créer une liste basée sur la liste existante, comme nous l'avons fait en copiant les listes ci-dessus. La structure de base de la syntaxe comprend une boucle for qui parcourt la liste et évalue une condition à l'aide de la condition if... else. Elle stocke ensuite la sortie de la condition dans une nouvelle liste. Voyons un exemple rapide :"
      ]
    },
    {
      "cell_type": "code",
      "execution_count": 30,
      "metadata": {
        "id": "TQSp7UdhaCmF",
        "colab": {
          "base_uri": "https://localhost:8080/"
        },
        "outputId": "4366d7e7-3733-4544-eb6f-d7542a3b7d0c"
      },
      "outputs": [
        {
          "output_type": "stream",
          "name": "stdout",
          "text": [
            "['chien', 'poisson', 'oeufs', 'Python', 'C++']\n",
            "[0, 1, 4, 9, 16]\n"
          ]
        }
      ],
      "source": [
        "my_list1 = [elem for index,elem in enumerate(my_list) if index % 2 == 0]\n",
        "print(my_list1)\n",
        "\n",
        "carrés = [n**2 for n in range(5)]\n",
        "print(carrés)"
      ]
    },
    {
      "cell_type": "markdown",
      "metadata": {
        "id": "z6oExdSUaCmF"
      },
      "source": [
        "**Traverser deux listes ensemble avec `zip()`**"
      ]
    },
    {
      "cell_type": "code",
      "execution_count": 31,
      "metadata": {
        "id": "D7e8oonwaCmF",
        "colab": {
          "base_uri": "https://localhost:8080/"
        },
        "outputId": "d5d45073-1a8e-404d-be05-ba4a0cd6acd4"
      },
      "outputs": [
        {
          "output_type": "stream",
          "name": "stdout",
          "text": [
            "first: cochon second: 0\n",
            "first: canard second: 1\n",
            "first: papillon second: 2\n"
          ]
        }
      ],
      "source": [
        "# iterate over two lists together uzing zip\n",
        "for item1, item2 in zip(['cochon','canard','papillon'],[0,1,2]):\n",
        "    print('first:', item1, 'second:', item2)"
      ]
    },
    {
      "cell_type": "markdown",
      "metadata": {
        "id": "ShnC_SlqaCmF"
      },
      "source": [
        "## Tuples"
      ]
    },
    {
      "cell_type": "markdown",
      "metadata": {
        "id": "mB8UBm58aCmG"
      },
      "source": [
        "Les tuples sont similaires aux listes, mais ils sont *immuables*, c'est-à-dire qu'ils ne peuvent pas être étendus ou modifiés. Quel en est l'intérêt ? D'une manière générale, il s'agit de regrouper des données non homogènes. Les tuples peuvent ensuite être décompressés et distribués par d'autres parties de votre code.\n",
        "\n",
        "Les tuples peuvent sembler déroutants au début, mais avec le temps, vous finirez par les apprécier."
      ]
    },
    {
      "cell_type": "code",
      "execution_count": 32,
      "metadata": {
        "id": "gox7UqcjaCmG",
        "colab": {
          "base_uri": "https://localhost:8080/"
        },
        "outputId": "f7c96001-2067-4466-e342-4b49abac0532"
      },
      "outputs": [
        {
          "output_type": "execute_result",
          "data": {
            "text/plain": [
              "tuple"
            ]
          },
          "metadata": {},
          "execution_count": 32
        }
      ],
      "source": [
        "# les tuples sont créés avec des parenthèses, ou simplement des virgules\n",
        "a = ('Ryan', 33, True)\n",
        "b = 'Takaya', 25, False\n",
        "type(b)"
      ]
    },
    {
      "cell_type": "code",
      "execution_count": 33,
      "metadata": {
        "id": "iuNXWdZUaCmG",
        "colab": {
          "base_uri": "https://localhost:8080/"
        },
        "outputId": "145aace9-f835-4fdc-8e6c-5751ec2005d0"
      },
      "outputs": [
        {
          "output_type": "stream",
          "name": "stdout",
          "text": [
            "33\n"
          ]
        }
      ],
      "source": [
        "# peut être indexé comme un tableau\n",
        "print(a[1]) # pas le premier élément !"
      ]
    },
    {
      "cell_type": "code",
      "execution_count": 34,
      "metadata": {
        "id": "9306ekaUaCmG",
        "colab": {
          "base_uri": "https://localhost:8080/"
        },
        "outputId": "c238e249-d196-4a57-8a7c-e6e5c9d3299e"
      },
      "outputs": [
        {
          "output_type": "stream",
          "name": "stdout",
          "text": [
            "Ryan 33 True\n"
          ]
        }
      ],
      "source": [
        "# et ils peuvent être décompressés\n",
        "nom, age, statut = a\n",
        "print(nom,age,statut)"
      ]
    },
    {
      "cell_type": "code",
      "execution_count": 35,
      "metadata": {
        "id": "eWHPKS_7aCmH",
        "colab": {
          "base_uri": "https://localhost:8080/"
        },
        "outputId": "9b1b056a-6bfe-406e-d12f-1c6c21b259c4"
      },
      "outputs": [
        {
          "output_type": "stream",
          "name": "stdout",
          "text": [
            "0\n"
          ]
        }
      ],
      "source": [
        "print(a.index('Ryan'))"
      ]
    },
    {
      "cell_type": "markdown",
      "metadata": {
        "id": "uhkJFHc1aCmH"
      },
      "source": [
        "## Sets"
      ]
    },
    {
      "cell_type": "markdown",
      "metadata": {
        "id": "u_41rrE0aCmH"
      },
      "source": [
        "Un **ensemble** (*set*) est une structure de données non ordonnée qui ne contient **que des éléments uniques**, ce qui signifie qu'il ne peut pas y avoir de doublons. Contrairement aux **listes** et aux **tuples**, un ensemble ne conserve pas l'ordre des éléments et ne permet pas d'accéder directement à un élément via un index.\n",
        "\n",
        "#### **Pourquoi utiliser un ensemble ?**\n",
        "Les ensembles sont particulièrement utiles lorsque :\n",
        "- Vous souhaitez **éliminer les doublons** dans une collection.\n",
        "- Vous avez besoin de faire des opérations d'**ensemble** comme l'union, l'intersection ou la différence entre plusieurs collections."
      ]
    },
    {
      "cell_type": "markdown",
      "metadata": {
        "id": "fBUud9wDaCmH"
      },
      "source": [
        "Création d'un ensemble:"
      ]
    },
    {
      "cell_type": "code",
      "execution_count": 36,
      "metadata": {
        "id": "oAucygcRaCmI"
      },
      "outputs": [],
      "source": [
        "# Création d'un ensemble vide\n",
        "ensemble_vide = set()\n",
        "\n",
        "# Création d'un ensemble avec des éléments\n",
        "mon_ensemble = {1, 2, 3, 4, 5}"
      ]
    },
    {
      "cell_type": "markdown",
      "metadata": {
        "id": "8sKYdbvcaCmI"
      },
      "source": [
        "Ajout d'éléments:"
      ]
    },
    {
      "cell_type": "code",
      "execution_count": 38,
      "metadata": {
        "id": "Lrr1GpXPaCmI",
        "colab": {
          "base_uri": "https://localhost:8080/"
        },
        "outputId": "196090a8-4a71-4698-989f-99a566a66a85"
      },
      "outputs": [
        {
          "output_type": "stream",
          "name": "stdout",
          "text": [
            "{1, 2, 3, 4, 5, 6, 7, 8, 9}\n"
          ]
        }
      ],
      "source": [
        "# Ajout d'un élément à un ensemble\n",
        "mon_ensemble.add(6)\n",
        "\n",
        "# Ajout de plusieurs éléments à un ensemble\n",
        "mon_ensemble.update({7, 8, 9})\n",
        "print (mon_ensemble)"
      ]
    },
    {
      "cell_type": "markdown",
      "metadata": {
        "id": "ca-85Eq6aCmI"
      },
      "source": [
        "Suppression d'éléments:"
      ]
    },
    {
      "cell_type": "code",
      "execution_count": 43,
      "metadata": {
        "id": "7NvBHiTHaCmI",
        "colab": {
          "base_uri": "https://localhost:8080/"
        },
        "outputId": "16df3fa0-ade6-4c43-df1c-40763014ef43"
      },
      "outputs": [
        {
          "output_type": "stream",
          "name": "stdout",
          "text": [
            "{1, 2, 4, 5, 6, 7, 8, 9}\n"
          ]
        }
      ],
      "source": [
        "# Suppression d'un élément spécifique\n",
        "#mon_ensemble.remove(3)\n",
        "#donc la suppression n'est pas possible\n",
        "# Suppression d'un élément sans générer d'erreur si l'élément n'est pas présent\n",
        "mon_ensemble.discard(10)\n",
        "print(mon_ensemble)"
      ]
    },
    {
      "cell_type": "markdown",
      "metadata": {
        "id": "VP2lG8JFaCmI"
      },
      "source": [
        "Opérations ensemblistes:"
      ]
    },
    {
      "cell_type": "code",
      "execution_count": 47,
      "metadata": {
        "id": "oYC9Q728aCmJ",
        "colab": {
          "base_uri": "https://localhost:8080/"
        },
        "outputId": "63dcfe1a-799a-44ee-dc35-12b87898593c"
      },
      "outputs": [
        {
          "output_type": "stream",
          "name": "stdout",
          "text": [
            "{1, 2, 3, 4, 5}\n",
            "{3}\n",
            "{1, 2}\n"
          ]
        }
      ],
      "source": [
        "# Union de deux ensembles\n",
        "ensemble1 = {1, 2, 3}\n",
        "ensemble2 = {3, 4, 5}\n",
        "union_resultat = ensemble1.union(ensemble2)\n",
        "print(union_resultat)\n",
        "\n",
        "# Intersection de deux ensembles\n",
        "intersection_resultat = ensemble1.intersection(ensemble2)\n",
        "print(intersection_resultat)\n",
        "# Différence entre deux ensembles\n",
        "difference_resultat = ensemble1.difference(ensemble2)\n",
        "print(difference_resultat)"
      ]
    },
    {
      "cell_type": "markdown",
      "metadata": {
        "id": "fpo84ZvBaCmJ"
      },
      "source": [
        "Vérification d'appartenance:"
      ]
    },
    {
      "cell_type": "code",
      "execution_count": 54,
      "metadata": {
        "id": "teRJ8Hb4aCmJ",
        "colab": {
          "base_uri": "https://localhost:8080/"
        },
        "outputId": "a2d4fc93-bbb1-4585-e4a7-c9a77ce79e5c"
      },
      "outputs": [
        {
          "output_type": "stream",
          "name": "stdout",
          "text": [
            "False\n"
          ]
        }
      ],
      "source": [
        "# Vérification si un élément appartient à l'ensemble\n",
        "appartient = 14 in ensemble1\n",
        "print (appartient)"
      ]
    },
    {
      "cell_type": "markdown",
      "metadata": {
        "id": "qtFkP_lsaCmJ"
      },
      "source": [
        "Parcours d'un ensemble:"
      ]
    },
    {
      "cell_type": "code",
      "execution_count": 49,
      "metadata": {
        "id": "sFYvBDUYaCmJ",
        "colab": {
          "base_uri": "https://localhost:8080/"
        },
        "outputId": "b43edbdf-2a65-409d-a4e5-c699077acfbc"
      },
      "outputs": [
        {
          "output_type": "stream",
          "name": "stdout",
          "text": [
            "1\n",
            "2\n",
            "4\n",
            "5\n",
            "6\n",
            "7\n",
            "8\n",
            "9\n"
          ]
        }
      ],
      "source": [
        "# Parcours des éléments de l'ensemble\n",
        "for element in mon_ensemble:\n",
        "    print(element)"
      ]
    },
    {
      "cell_type": "markdown",
      "metadata": {
        "id": "VNoc2g4naCmJ"
      },
      "source": [
        "Conversion vers un ensemble:"
      ]
    },
    {
      "cell_type": "code",
      "execution_count": 57,
      "metadata": {
        "id": "mL-X_H9oaCmK",
        "colab": {
          "base_uri": "https://localhost:8080/"
        },
        "outputId": "ed9b6030-ccad-4d65-e2fe-745e4f9b8053"
      },
      "outputs": [
        {
          "output_type": "stream",
          "name": "stdout",
          "text": [
            "{1, 2, 3, 4, 5}\n"
          ]
        }
      ],
      "source": [
        "# Conversion d'une liste en ensemble\n",
        "liste = [1, 2, 3, 4, 5]\n",
        "ensemble_a_partir_de_liste = set(liste)\n",
        "print(ensemble_a_partir_de_liste)"
      ]
    },
    {
      "cell_type": "markdown",
      "metadata": {
        "id": "RP8kd0Z9aCmK"
      },
      "source": [
        " La capacité à gérer des données non ordonnées et à éliminer les doublons les rend utiles dans de nombreuses situations."
      ]
    },
    {
      "cell_type": "markdown",
      "metadata": {
        "id": "h-QlbddpaCmK"
      },
      "source": [
        "## Dictionnaires"
      ]
    },
    {
      "cell_type": "markdown",
      "metadata": {
        "id": "MpWTcj7HaCmK"
      },
      "source": [
        "Un **dictionnaire** est une structure de données qui associe des **clés** à des **valeurs**, permettant un accès rapide aux données en fonction de la clé. Contrairement aux **listes**, les dictionnaires ne sont pas ordonnés avant Python 3.7 (depuis, l'ordre d'insertion est conservé), et chaque clé dans un dictionnaire est unique.\n",
        "\n",
        "#### **Pourquoi utiliser un dictionnaire ?**\n",
        "Les dictionnaires sont extrêmement utiles pour :\n",
        "- **Associer des informations** : Par exemple, relier un nom (clé) à un numéro de téléphone (valeur).\n",
        "- **Rechercher rapidement** des valeurs en fonction de leurs clés, ce qui est beaucoup plus rapide que de parcourir une liste."
      ]
    },
    {
      "cell_type": "code",
      "execution_count": 92,
      "metadata": {
        "id": "5N1F3AZYaCmK",
        "colab": {
          "base_uri": "https://localhost:8080/"
        },
        "outputId": "e9e2ee89-4992-4b9e-c63f-45d9736deec0"
      },
      "outputs": [
        {
          "output_type": "stream",
          "name": "stdout",
          "text": [
            "{'nom': 'Emma', 'age': 19} {'nom': 'Ruben', 'age': 23}\n"
          ]
        }
      ],
      "source": [
        "#@title #### **Différentes façons de créer des dictionnaires**\n",
        "d = {'nom' : 'Emma', 'age' : 19} # Écrivez votre nom et votre âge ici\n",
        "e = dict(nom='Ruben', age=23) # Inscrivez le nom et l'âge de quelqu'un d'autre ici\n",
        "print(d,e)"
      ]
    },
    {
      "cell_type": "code",
      "execution_count": 93,
      "metadata": {
        "id": "vljbyCEZaCmL",
        "colab": {
          "base_uri": "https://localhost:8080/"
        },
        "outputId": "f923713f-74d9-454b-bbd9-7ba96b3cfa6f"
      },
      "outputs": [
        {
          "output_type": "stream",
          "name": "stdout",
          "text": [
            "Emma\n",
            "nom :  Emma\n",
            "sexe :    Pas trouvé\n"
          ]
        }
      ],
      "source": [
        "#@title #### **Accéder aux éléments du dictionnaire**\n",
        "print(d['nom'])\n",
        "print(\"nom : \", d.get('nom' , 'Pas trouvé'))\n",
        "print(\"sexe :   \", d.get('gender', 'Pas trouvé'))"
      ]
    },
    {
      "cell_type": "code",
      "execution_count": 94,
      "metadata": {
        "id": "kvEnlSZgaCmL",
        "colab": {
          "base_uri": "https://localhost:8080/"
        },
        "outputId": "d61ae514-31f8-4d8a-fdff-3c356b99275f"
      },
      "outputs": [
        {
          "output_type": "execute_result",
          "data": {
            "text/plain": [
              "{'nom': 'Emma', 'age': 19, 'taille': (1, 76)}"
            ]
          },
          "metadata": {},
          "execution_count": 94
        }
      ],
      "source": [
        "#@title #### **Mise à jour du dictionnaire**\n",
        "# Ajouter une nouvelle paire variable-valeur :\n",
        "d['taille'] = (1,76) # un tuple, par exemple votre taille en (mètres,centimètres)\n",
        "d"
      ]
    },
    {
      "cell_type": "code",
      "execution_count": 95,
      "metadata": {
        "id": "5uElTI0uaCmL",
        "colab": {
          "base_uri": "https://localhost:8080/"
        },
        "outputId": "6eec8158-401a-4861-e3aa-9f7dcf59fc00"
      },
      "outputs": [
        {
          "output_type": "stream",
          "name": "stdout",
          "text": [
            "{'nom': 'Emma', 'age': 19, 'taille': (1, 76), 'lieu': 'Lausanne', 'nationalite': 'CH', 'annee_naissance': '2004'}\n"
          ]
        }
      ],
      "source": [
        "#@title #### **Ajouter un dictionnaire**\n",
        "# update() ajoute deux dictionnaires ensemble\n",
        "newdict = dict(lieu='Lausanne',nationalite='CH',annee_naissance='2004')\n",
        "d.update(newdict)\n",
        "print(d)\n"
      ]
    },
    {
      "cell_type": "code",
      "execution_count": 96,
      "metadata": {
        "id": "HrGaeW76aCmM",
        "colab": {
          "base_uri": "https://localhost:8080/"
        },
        "outputId": "d1e047fd-74dc-4453-d870-b1c9321e73c0"
      },
      "outputs": [
        {
          "output_type": "stream",
          "name": "stdout",
          "text": [
            "{'nom': 'Emma', 'taille': (1, 76), 'lieu': 'Lausanne', 'nationalite': 'CH', 'annee_naissance': '2004'}\n",
            "{'nom': 'Emma', 'taille': (1, 76), 'lieu': 'Lausanne', 'nationalite': 'CH', 'annee_naissance': '2004'}\n",
            "Identique ? True\n",
            "{'nom': 'Emma', 'taille': (1, 76), 'lieu': 'Lausanne', 'nationalite': 'CH', 'annee_naissance': '2004', 'age': 19}\n"
          ]
        }
      ],
      "source": [
        "#@title #### **Supprimer les éléments du dictionnaire**\n",
        "# pop(),del()\n",
        "d2 = d.copy()\n",
        "d2.pop('age')\n",
        "del d['age']\n",
        "print(d)\n",
        "print(d2)\n",
        "print(f\"Identique ? {d==d2}\")\n",
        "d['age']=19\n",
        "print(d)"
      ]
    },
    {
      "cell_type": "code",
      "execution_count": 76,
      "metadata": {
        "id": "0dncK3lsaCmM",
        "colab": {
          "base_uri": "https://localhost:8080/"
        },
        "outputId": "976a4960-6c7d-4cfb-f692-57246f671935"
      },
      "outputs": [
        {
          "output_type": "stream",
          "name": "stdout",
          "text": [
            "nom Emma\n",
            "taille (1, 76)\n",
            "lieu Lausanne\n",
            "nationalite CH\n",
            "annee_naissance 2004\n"
          ]
        }
      ],
      "source": [
        "#@title #### **Dictionnaire transversal**\n",
        "# itérer sur les clés\n",
        "for k in d :\n",
        "    print(k, d[k])"
      ]
    },
    {
      "cell_type": "code",
      "execution_count": 77,
      "metadata": {
        "id": "fBqI5JWzaCmM",
        "colab": {
          "base_uri": "https://localhost:8080/"
        },
        "outputId": "f7c1fa72-3426-4c26-8f01-d31bccb553c1"
      },
      "outputs": [
        {
          "output_type": "stream",
          "name": "stdout",
          "text": [
            "['nom', 'taille', 'lieu', 'nationalite', 'annee_naissance']\n",
            "['Emma', (1, 76), 'Lausanne', 'CH', '2004']\n",
            "[('nom', 'Emma'), ('taille', (1, 76)), ('lieu', 'Lausanne'), ('nationalite', 'CH'), ('annee_naissance', '2004')]\n"
          ]
        }
      ],
      "source": [
        "#d={'nom': 'Emma', 'taille': (1, 76), 'lieu': 'Lausanne', 'nationalite': 'CH', 'annee_naissance': '2004'}\n",
        "print(list(d.keys()))\n",
        "print(list(d.values()))\n",
        "print(list(d.items()))"
      ]
    },
    {
      "cell_type": "code",
      "execution_count": 97,
      "metadata": {
        "id": "OdB5aRLQaCmN",
        "colab": {
          "base_uri": "https://localhost:8080/"
        },
        "outputId": "da9a8fcc-bceb-447f-c1b3-58c9e5e5cacf"
      },
      "outputs": [
        {
          "output_type": "stream",
          "name": "stdout",
          "text": [
            "AL : Alabama\n",
            "CA : California\n",
            "NJ : New Jersey\n",
            "NY : New York\n"
          ]
        }
      ],
      "source": [
        "#@title #### **Triez le dictionnaire**\n",
        "# sorted()\n",
        "states_dict = {'AL' : 'Alabama', 'CA' : 'California',\n",
        "               'NJ' : 'New Jersey', 'NY' : 'New York'}\n",
        "sorted_keys = sorted(list(states_dict.keys()), reverse=False)\n",
        "for key in sorted_keys :\n",
        "    print('{} : {}'.format(key, states_dict[key]))"
      ]
    },
    {
      "cell_type": "code",
      "source": [],
      "metadata": {
        "id": "ErMqamm29dpE"
      },
      "execution_count": null,
      "outputs": []
    }
  ],
  "metadata": {
    "kernelspec": {
      "display_name": "base",
      "language": "python",
      "name": "python3"
    },
    "language_info": {
      "codemirror_mode": {
        "name": "ipython",
        "version": 3
      },
      "file_extension": ".py",
      "mimetype": "text/x-python",
      "name": "python",
      "nbconvert_exporter": "python",
      "pygments_lexer": "ipython3",
      "version": "3.12.0"
    },
    "colab": {
      "provenance": [],
      "include_colab_link": true
    }
  },
  "nbformat": 4,
  "nbformat_minor": 0
}